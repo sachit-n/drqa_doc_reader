{
  "nbformat": 4,
  "nbformat_minor": 0,
  "metadata": {
    "colab": {
      "name": "colab_nb.ipynb",
      "provenance": [],
      "collapsed_sections": []
    },
    "kernelspec": {
      "name": "python3",
      "display_name": "Python 3"
    },
    "accelerator": "GPU"
  },
  "cells": [
    {
      "cell_type": "code",
      "metadata": {
        "id": "wRIOFvjsCjfJ",
        "colab_type": "code",
        "colab": {
          "base_uri": "https://localhost:8080/",
          "height": 125
        },
        "outputId": "dfc3f95d-229a-4f35-d41c-d937c0816a45"
      },
      "source": [
        "from google.colab import drive\n",
        "drive.mount('/content/drive')"
      ],
      "execution_count": 1,
      "outputs": [
        {
          "output_type": "stream",
          "text": [
            "Go to this URL in a browser: https://accounts.google.com/o/oauth2/auth?client_id=947318989803-6bn6qk8qdgf4n4g3pfee6491hc0brc4i.apps.googleusercontent.com&redirect_uri=urn%3Aietf%3Awg%3Aoauth%3A2.0%3Aoob&scope=email%20https%3A%2F%2Fwww.googleapis.com%2Fauth%2Fdocs.test%20https%3A%2F%2Fwww.googleapis.com%2Fauth%2Fdrive%20https%3A%2F%2Fwww.googleapis.com%2Fauth%2Fdrive.photos.readonly%20https%3A%2F%2Fwww.googleapis.com%2Fauth%2Fpeopleapi.readonly&response_type=code\n",
            "\n",
            "Enter your authorization code:\n",
            "··········\n",
            "Mounted at /content/drive\n"
          ],
          "name": "stdout"
        }
      ]
    },
    {
      "cell_type": "code",
      "metadata": {
        "id": "qOl4zsGjCkU-",
        "colab_type": "code",
        "colab": {}
      },
      "source": [
        "import os"
      ],
      "execution_count": 0,
      "outputs": []
    },
    {
      "cell_type": "code",
      "metadata": {
        "id": "LGUkbPomDl45",
        "colab_type": "code",
        "outputId": "e157e1cb-e00f-4b29-8924-6d59c7115849",
        "colab": {
          "base_uri": "https://localhost:8080/",
          "height": 34
        }
      },
      "source": [
        "%cd drive/My Drive/drqa_doc_reader"
      ],
      "execution_count": 1,
      "outputs": [
        {
          "output_type": "stream",
          "text": [
            "/content/drive/My Drive/drqa_doc_reader\n"
          ],
          "name": "stdout"
        }
      ]
    },
    {
      "cell_type": "code",
      "metadata": {
        "id": "7nHoqwmQDszp",
        "colab_type": "code",
        "outputId": "2a524145-fdf9-4e86-b43a-daaa96d3a5fc",
        "colab": {
          "base_uri": "https://localhost:8080/",
          "height": 34
        }
      },
      "source": [
        "pwd"
      ],
      "execution_count": 2,
      "outputs": [
        {
          "output_type": "execute_result",
          "data": {
            "text/plain": [
              "'/content/drive/My Drive/drqa_doc_reader'"
            ]
          },
          "metadata": {
            "tags": []
          },
          "execution_count": 2
        }
      ]
    },
    {
      "cell_type": "code",
      "metadata": {
        "id": "0TUMojkcD0z5",
        "colab_type": "code",
        "colab": {}
      },
      "source": [
        "#!pip install ujson"
      ],
      "execution_count": 0,
      "outputs": []
    },
    {
      "cell_type": "code",
      "metadata": {
        "id": "M5lFNcE_Dvfi",
        "colab_type": "code",
        "colab": {}
      },
      "source": [
        "#!python setup.py --train_url=\"./data/train-v1.1.json\" --dev_url=\".data/dev-v1.1.json\" --glove_url=\".data/glove.840B.300d.zip\" --include_test_examples=False"
      ],
      "execution_count": 0,
      "outputs": []
    },
    {
      "cell_type": "code",
      "metadata": {
        "id": "I56OUqUJH2WW",
        "colab_type": "code",
        "outputId": "197f4ce7-e07f-4c68-a88c-4a3a7df333d3",
        "colab": {
          "base_uri": "https://localhost:8080/",
          "height": 54
        }
      },
      "source": [
        "import json\n",
        "import numpy as np\n",
        "import torch\n",
        "from model import StanfAR\n",
        "import torch.optim as optim\n",
        "import torch.nn.functional as F\n",
        "from torch.utils import data\n",
        "import time\n",
        "\n",
        "'''\n",
        "steps - \n",
        "1. load data\n",
        "2. preprocess\n",
        "3. train\n",
        "4. tensorboard / evaluation on dev\n",
        "5. saving/checkpointing/loading model\n",
        "6. predict function\n",
        "7. web app\n",
        "8. packaging, code quality testing, etc.\n",
        "'''\n",
        "#%%"
      ],
      "execution_count": 5,
      "outputs": [
        {
          "output_type": "execute_result",
          "data": {
            "text/plain": [
              "'\\nsteps - \\n1. load data\\n2. preprocess\\n3. train\\n4. tensorboard / evaluation on dev\\n5. saving/checkpointing/loading model\\n6. predict function\\n7. web app\\n8. packaging, code quality testing, etc.\\n'"
            ]
          },
          "metadata": {
            "tags": []
          },
          "execution_count": 5
        }
      ]
    },
    {
      "cell_type": "code",
      "metadata": {
        "id": "BJBl-eRGIiA7",
        "colab_type": "code",
        "colab": {}
      },
      "source": [
        "def load_json_file(path):\n",
        "    with open(path) as file:\n",
        "        out = json.load(file)\n",
        "    return out\n",
        "\n",
        "\n",
        "def load_npz_file(path):\n",
        "    return np.load(path)\n",
        "\n",
        "\n",
        "def load_files(path):\n",
        "    word2idx = load_json_file(path + \"/word2idx.json\")\n",
        "    word_emb = load_json_file(path + \"/word_emb.json\")\n",
        "\n",
        "    train_data = load_npz_file(path + \"/train.npz\")\n",
        "    dev_data = load_npz_file(path + \"/dev.npz\")\n",
        "\n",
        "    idx2word = {i:j for j,i in word2idx.items()}\n",
        "\n",
        "    return word2idx, idx2word, word_emb, train_data, dev_data\n",
        "\n",
        "\n"
      ],
      "execution_count": 0,
      "outputs": []
    },
    {
      "cell_type": "code",
      "metadata": {
        "id": "_bOb5VjXIkux",
        "colab_type": "code",
        "colab": {}
      },
      "source": [
        "#%% loading\n",
        "word2idx, idx2word, word_emb, train_data, dev_data = load_files(path='data')\n",
        "\n"
      ],
      "execution_count": 0,
      "outputs": []
    },
    {
      "cell_type": "code",
      "metadata": {
        "id": "_AARxVbOJgP_",
        "colab_type": "code",
        "colab": {}
      },
      "source": [
        "device = torch.device(\"cuda\" if torch.cuda.is_available() else \"cpu\")\n"
      ],
      "execution_count": 0,
      "outputs": []
    },
    {
      "cell_type": "code",
      "metadata": {
        "id": "JOSffrhvJg1Y",
        "colab_type": "code",
        "colab": {}
      },
      "source": [
        ""
      ],
      "execution_count": 0,
      "outputs": []
    },
    {
      "cell_type": "code",
      "metadata": {
        "id": "nnIsQZkwIro7",
        "colab_type": "code",
        "colab": {}
      },
      "source": [
        "#%% preprocessing\n",
        "train_q = torch.LongTensor(train_data['ques_idxs']).to(device)\n",
        "train_c = torch.LongTensor(train_data['context_idxs']).to(device)\n",
        "\n",
        "labels1 = torch.as_tensor(train_data['y1s']).to(device)\n",
        "labels2 = torch.as_tensor(train_data['y2s']).to(device)\n",
        "\n",
        "word_emb = torch.as_tensor(word_emb).to(device)\n",
        "\n",
        "\n"
      ],
      "execution_count": 0,
      "outputs": []
    },
    {
      "cell_type": "code",
      "metadata": {
        "id": "7a1DfmNLSb5G",
        "colab_type": "code",
        "colab": {}
      },
      "source": [
        "dev_q = torch.LongTensor(dev_data['ques_idxs']).to(device)\n",
        "dev_c = torch.LongTensor(dev_data['context_idxs']).to(device)\n",
        "\n",
        "labels1_dev = torch.as_tensor(dev_data['y1s']).to(device)\n",
        "labels2_dev = torch.as_tensor(dev_data['y2s']).to(device)\n",
        "\n"
      ],
      "execution_count": 0,
      "outputs": []
    },
    {
      "cell_type": "code",
      "metadata": {
        "id": "WgJ6dpaSIo3v",
        "colab_type": "code",
        "colab": {}
      },
      "source": [
        "class Dataset(data.Dataset):\n",
        "    def __init__(self):\n",
        "        super().__init__()\n",
        "        self.data = (train_q, train_c, labels1, labels2, dev_q, dev_c, labels1_dev, labels2_dev)\n",
        "\n",
        "    def __len__(self):\n",
        "        return len(self.data[0])\n",
        "\n",
        "    def __getitem__(self, idx):\n",
        "        query = self.data[0][idx]\n",
        "        ctx = self.data[1][idx]\n",
        "        y1 = self.data[2][idx]\n",
        "        y2 = self.data[3][idx]\n",
        "        \n",
        "        try:\n",
        "            dev_query = self.data[4][idx]\n",
        "            dev_ctx = self.data[5][idx]\n",
        "            dev_l1 = self.data[6][idx]\n",
        "            dev_l2 = self.data[7][idx]\n",
        "        except:\n",
        "            return query, ctx, y1, y2\n",
        "          \n",
        "        return query, ctx, y1, y2, dev_query, dev_ctx, dev_l1, dev_l2\n"
      ],
      "execution_count": 0,
      "outputs": []
    },
    {
      "cell_type": "code",
      "metadata": {
        "id": "FA0QjDKFIs25",
        "colab_type": "code",
        "colab": {}
      },
      "source": [
        "#%%\n",
        "df = torch.utils.data.DataLoader(Dataset(), batch_size=32)\n",
        "\n",
        "\n",
        "#%% training loop\n",
        "torch.set_grad_enabled(True)\n",
        "\n",
        "network = StanfAR(word_emb, 32).to(device)\n",
        "\n",
        "optimizer = optim.Adamax(network.parameters(), lr=0.01)\n",
        "\n",
        "total_loss = 0\n",
        "total_correct = 0\n",
        "\n",
        "i = 0\n",
        "num_epochs = 500\n",
        "\n"
      ],
      "execution_count": 0,
      "outputs": []
    },
    {
      "cell_type": "code",
      "metadata": {
        "id": "tviyp1S1IuLi",
        "colab_type": "code",
        "outputId": "ff976c40-5fc2-46a5-b880-672a1e14e4dc",
        "colab": {
          "base_uri": "https://localhost:8080/",
          "height": 390
        }
      },
      "source": [
        "for j in range(num_epochs):\n",
        "    test_acc1 = []\n",
        "    test_acc2 = []\n",
        "    acc1 = []\n",
        "    acc2 = []\n",
        "    i = 0\n",
        "    tic_b = time.time()\n",
        "    for batch in df:  # Get Batch\n",
        "        i += 1\n",
        "        try:\n",
        "            query, context, y1, y2, dev_q, dev_ctx, dev_y1, dev_y2 = batch\n",
        "        except:\n",
        "            query, context, y1, y2 = batch\n",
        "\n",
        "        if query.shape[0] != 32:\n",
        "            break\n",
        "\n",
        "        if i == 100:\n",
        "            toc_b = time.time()\n",
        "            print(f\"Time for 100 batches: {toc_b-tic_b}\")\n",
        "\n",
        "        preds = network(query, context)  # Pass Batch\n",
        "\n",
        "        loss = (F.cross_entropy(preds[0], y1))+(F.cross_entropy(preds[1], y2))\n",
        "\n",
        "        optimizer.zero_grad()\n",
        "        loss.backward()  # Calculate Gradients\n",
        "        optimizer.step()  # Update Weights\n",
        "\n",
        "        total_loss += loss.item()\n",
        "\n",
        "        acc1.append((preds[0].argmax(dim=1) == y1).sum().item())\n",
        "        acc2.append((preds[0].argmax(dim=1) == y1).sum().item())\n",
        "\n",
        "        if i<=10480:\n",
        "            with torch.no_grad():\n",
        "                test_preds1, test_preds2 = network(dev_q, dev_ctx)\n",
        "                accuracy1 = (test_preds1.argmax(dim=1)==dev_y1).sum().item()\n",
        "                accuracy2 = (test_preds2.argmax(dim=1)==dev_y2).sum().item()\n",
        "                test_acc1.append(accuracy1)\n",
        "                test_acc2.append(accuracy2)\n",
        "  \n",
        "    print(f\"Epoch: {j}\\ntrain_accuracy1: {np.mean(acc1[-100:])}\\ntrain_accuracy2: {np.mean(acc2[-100:])}\\ntest_accuracy1: {np.mean(test_acc1[-100:])}\\ntest_accuracy2: {np.mean(test_acc2[-100:])}\\n\")\n"
      ],
      "execution_count": 0,
      "outputs": [
        {
          "output_type": "stream",
          "text": [
            "Time for 100 batches: 21.847774267196655\n",
            "Epoch: 0\n",
            "train_accuracy1: 10.2\n",
            "train_accuracy2: 10.2\n",
            "test_accuracy1: 1.31\n",
            "test_accuracy2: 0.8\n",
            "\n",
            "Time for 100 batches: 23.82910990715027\n",
            "Epoch: 1\n",
            "train_accuracy1: 13.29\n",
            "train_accuracy2: 13.29\n",
            "test_accuracy1: 1.04\n",
            "test_accuracy2: 0.6\n",
            "\n",
            "Time for 100 batches: 23.965417623519897\n",
            "Epoch: 2\n",
            "train_accuracy1: 14.84\n",
            "train_accuracy2: 14.84\n",
            "test_accuracy1: 1.09\n",
            "test_accuracy2: 0.71\n",
            "\n"
          ],
          "name": "stdout"
        }
      ]
    },
    {
      "cell_type": "code",
      "metadata": {
        "id": "0-bIqBOVZeJf",
        "colab_type": "code",
        "colab": {
          "base_uri": "https://localhost:8080/",
          "height": 34
        },
        "outputId": "a4b5139b-99d4-419e-bc03-84211494330d"
      },
      "source": [
        ""
      ],
      "execution_count": 21,
      "outputs": [
        {
          "output_type": "execute_result",
          "data": {
            "text/plain": [
              "[tensor(0, device='cuda:0')]"
            ]
          },
          "metadata": {
            "tags": []
          },
          "execution_count": 21
        }
      ]
    },
    {
      "cell_type": "code",
      "metadata": {
        "id": "-U5sNBCdUQDF",
        "colab_type": "code",
        "colab": {}
      },
      "source": [
        ""
      ],
      "execution_count": 0,
      "outputs": []
    },
    {
      "cell_type": "code",
      "metadata": {
        "id": "eNnss-4iIzWi",
        "colab_type": "code",
        "colab": {}
      },
      "source": [
        "#%%\n",
        "print(\n",
        "    \"epoch:\", 0,\n",
        "    \"total_correct:\", total_correct,\n",
        "    \"loss:\", total_loss\n",
        ")\n",
        "\n",
        "\n",
        "\n",
        "#%%\n",
        "model = StanfAR(word_emb, 32)\n",
        "sample_data_q, sample_data_c  = next(iter(train_loader_q)), next(iter(train_loader_c))\n",
        "\n",
        "out = model(sample_data_q, sample_data_c)\n"
      ],
      "execution_count": 0,
      "outputs": []
    }
  ]
}